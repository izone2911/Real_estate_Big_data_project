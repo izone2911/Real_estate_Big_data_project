{
 "cells": [
  {
   "cell_type": "code",
   "execution_count": 1,
   "metadata": {},
   "outputs": [],
   "source": [
    "from hdfs import InsecureClient\n",
    "from confluent_kafka import Consumer\n",
    "import json"
   ]
  },
  {
   "cell_type": "code",
   "execution_count": 2,
   "metadata": {},
   "outputs": [],
   "source": [
    "hdfs_client = InsecureClient('http://20.239.82.205:9870', user='haihp02')"
   ]
  },
  {
   "cell_type": "code",
   "execution_count": 9,
   "metadata": {},
   "outputs": [
    {
     "data": {
      "text/plain": [
       "True"
      ]
     },
     "execution_count": 9,
     "metadata": {},
     "output_type": "execute_result"
    }
   ],
   "source": [
    "hdfs_client.delete('/haihp02/real_estate_data/nhadatviet.jsonl')"
   ]
  },
  {
   "cell_type": "code",
   "execution_count": 4,
   "metadata": {},
   "outputs": [],
   "source": [
    "local_jsonl_file = './guland-ha-noi-hai-ba-trung.jsonl'\n",
    "hdfs_file_path = '/haihp02/real_estate_data/guland-ha-noi-hai-ba-trung.jsonl'\n",
    "with open(local_jsonl_file, 'r') as local_file:\n",
    "    jsonl_content = local_file.read()\n",
    "with hdfs_client.write(hdfs_path=hdfs_file_path, encoding='utf-8', append=False) as writer:\n",
    "    writer.write(jsonl_content)"
   ]
  },
  {
   "cell_type": "code",
   "execution_count": 5,
   "metadata": {},
   "outputs": [],
   "source": [
    "with hdfs_client.read('/haihp02/real_estate_data/nhadatviet.jsonl', encoding='utf-8') as reader:\n",
    "    content = reader.readlines()"
   ]
  },
  {
   "cell_type": "code",
   "execution_count": 7,
   "metadata": {},
   "outputs": [],
   "source": [
    "# def json_to_jsonl(json_file_path, jsonl_file_path):\n",
    "#     with open(json_file_path, 'r', encoding='utf8') as f:\n",
    "#         data = json.load(f)\n",
    "#     json_lines = [json.dumps(item, ensure_ascii=False) for item in data]\n",
    "#     with open(jsonl_file_path, 'w', encoding='utf8') as f:\n",
    "#         for line in json_lines:\n",
    "#             f.write(f'{line}\\n')\n",
    "\n",
    "# json_file_path = '/home/haihp02/Edu/Big data storage and processing/data/nhadatviet.json'\n",
    "# jsonl_file_path = '/home/haihp02/Edu/Big data storage and processing/data/nhadatviet.jsonl'\n",
    "# json_to_jsonl(json_file_path, jsonl_file_path)"
   ]
  },
  {
   "cell_type": "code",
   "execution_count": null,
   "metadata": {},
   "outputs": [],
   "source": [
    "def run_hdfs_consumer():\n",
    "    c = Consumer({'bootstrap.servers': '0.0.0.0:9192,0.0.0.0:9292,0.0.0.0:9392',\n",
    "                  'group.id': '123'})\n",
    "    c.subscribe(['bds', 'i-batdongsan', 'nhadatviet'])\n",
    "    print(c.assignment())\n",
    "    consumed = []\n",
    "\n",
    "    while True:\n",
    "        msg = c.poll(0.01)\n",
    "\n",
    "        if msg is None:\n",
    "            print(len(consumed))\n",
    "            continue\n",
    "        if msg.error():\n",
    "            print(f'Consumer error: {msg.error()}')\n",
    "            continue\n",
    "        \n",
    "        msg_received = json.loads(msg.value().decode(\"utf-8\"))\n",
    "        consumed.append(msg_received)\n",
    "        print(f'Received message in topic: {msg.topic()}')\n",
    "        print(msg.key())\n",
    "        print(msg.offset())\n",
    "\n",
    "run_hdfs_consumer()"
   ]
  }
 ],
 "metadata": {
  "kernelspec": {
   "display_name": "dsai-env",
   "language": "python",
   "name": "python3"
  },
  "language_info": {
   "codemirror_mode": {
    "name": "ipython",
    "version": 3
   },
   "file_extension": ".py",
   "mimetype": "text/x-python",
   "name": "python",
   "nbconvert_exporter": "python",
   "pygments_lexer": "ipython3",
   "version": "3.9.18"
  }
 },
 "nbformat": 4,
 "nbformat_minor": 2
}
